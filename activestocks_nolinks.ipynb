{
  "cells": [
    {
      "cell_type": "markdown",
      "metadata": {
        "id": "view-in-github",
        "colab_type": "text"
      },
      "source": [
        "<a href=\"https://colab.research.google.com/github/y3khan/twitter-bot/blob/y3khan-patch-1/activestocks_nolinks.ipynb\" target=\"_parent\"><img src=\"https://colab.research.google.com/assets/colab-badge.svg\" alt=\"Open In Colab\"/></a>"
      ]
    },
    {
      "cell_type": "code",
      "execution_count": 4,
      "metadata": {
        "id": "AnQi4gVz9auM"
      },
      "outputs": [],
      "source": [
        "# Twitter Bot: Web Scraping a website for active stocks and then generated tweets and then plotting line graph"
      ]
    },
    {
      "cell_type": "code",
      "source": [
        "pip install pandas"
      ],
      "metadata": {
        "colab": {
          "base_uri": "https://localhost:8080/"
        },
        "id": "uKascBZG97gP",
        "outputId": "88786df6-389e-4e13-b099-9ded99494f54"
      },
      "execution_count": 13,
      "outputs": [
        {
          "output_type": "stream",
          "name": "stdout",
          "text": [
            "Requirement already satisfied: pandas in /usr/local/lib/python3.10/dist-packages (1.5.3)\n",
            "Requirement already satisfied: python-dateutil>=2.8.1 in /usr/local/lib/python3.10/dist-packages (from pandas) (2.8.2)\n",
            "Requirement already satisfied: pytz>=2020.1 in /usr/local/lib/python3.10/dist-packages (from pandas) (2022.7.1)\n",
            "Requirement already satisfied: numpy>=1.21.0 in /usr/local/lib/python3.10/dist-packages (from pandas) (1.22.4)\n",
            "Requirement already satisfied: six>=1.5 in /usr/local/lib/python3.10/dist-packages (from python-dateutil>=2.8.1->pandas) (1.16.0)\n"
          ]
        }
      ]
    },
    {
      "cell_type": "code",
      "source": [
        "pip install schedule"
      ],
      "metadata": {
        "colab": {
          "base_uri": "https://localhost:8080/"
        },
        "id": "BHpdUvlO--8M",
        "outputId": "2fb08cd8-e8eb-46c3-d3bb-a2ab0dda9374"
      },
      "execution_count": 15,
      "outputs": [
        {
          "output_type": "stream",
          "name": "stdout",
          "text": [
            "Collecting schedule\n",
            "  Downloading schedule-1.2.0-py2.py3-none-any.whl (11 kB)\n",
            "Installing collected packages: schedule\n",
            "Successfully installed schedule-1.2.0\n"
          ]
        }
      ]
    },
    {
      "cell_type": "code",
      "source": [
        "pip install beautifulsoup4"
      ],
      "metadata": {
        "colab": {
          "base_uri": "https://localhost:8080/"
        },
        "id": "6ja-8WAD_B5d",
        "outputId": "58a245ea-03b2-4764-fca9-691116b82521"
      },
      "execution_count": 16,
      "outputs": [
        {
          "output_type": "stream",
          "name": "stdout",
          "text": [
            "Requirement already satisfied: beautifulsoup4 in /usr/local/lib/python3.10/dist-packages (4.11.2)\n",
            "Requirement already satisfied: soupsieve>1.2 in /usr/local/lib/python3.10/dist-packages (from beautifulsoup4) (2.4.1)\n"
          ]
        }
      ]
    },
    {
      "cell_type": "markdown",
      "metadata": {
        "id": "Bt6wXMTx9auQ"
      },
      "source": [
        "## Importing all the required libraries"
      ]
    },
    {
      "cell_type": "code",
      "execution_count": 17,
      "metadata": {
        "id": "LUz04MsZ9auS"
      },
      "outputs": [],
      "source": [
        "#!pip install yfinance --upgrade --no-cache-dir\n",
        "import tweepy\n",
        "import requests\n",
        "import pandas as pd\n",
        "import schedule\n",
        "import time\n",
        "from bs4 import BeautifulSoup\n",
        "import random\n",
        "import tweepy\n",
        "import yfinance as yf"
      ]
    },
    {
      "cell_type": "markdown",
      "metadata": {
        "id": "k0fnYSsK9auT"
      },
      "source": [
        "### References:\n",
        "Tweepy Tutorial: https://realpython.com/twitter-bot-python-tweepy/\n",
        "YouTube Tutorial: How to Schedule Tasks with Python https://www.youtube.com/watch?v=zF_DroDICaM\n",
        "YouTube Tutorial: PYTHON VIRTUAL ENVIRONMENTS (Beginner's Guide to Python Lesson 9) https://www.youtube.com/watch?v=4jt9JPoIDpY\n",
        "YouTube Tutorial: Web scraping in Python (Part 3): Building a dataset https://www.youtube.com/watch?v=v5DDW5dyfyc\n",
        "YouTube:30 Days of Python - Day 21 - Twitter API with Tweepy - Python TUTORIAL (especially useful for 2nd Twitter account authentication) https://www.youtube.com/watch?v=dvAurfBB6Jk&list=LL&index=28&t=3s\n",
        "YouTube:How to Web Scrape Any Table Online Using Python and BeautifulSoup https://www.youtube.com/watch?v=PY2I4UIZk48&list=LL&index=18&t=863s\n"
      ]
    },
    {
      "cell_type": "markdown",
      "metadata": {
        "id": "2ITvCyxW9auU"
      },
      "source": [
        "### Entering in the Twitter creditentials so that authetication can be completed. Also creating the API object so that different methods can be called when necessary"
      ]
    },
    {
      "cell_type": "code",
      "execution_count": 18,
      "metadata": {
        "id": "klqK1A0h9auU"
      },
      "outputs": [],
      "source": [
        "   # Authenticate to Twitter\n",
        "auth = tweepy.OAuthHandler(\"azE9VOp62X7EWcx6RAvNKAj95\",\n",
        "    \"ffIWkNkCJLAobTvQ2lFPz3yb45Dr0eoowBBsUyGA1NfKIQjgUm\")\n",
        "auth.set_access_token(\"1358336778479022081-ffrl4bxxcVusnUG25aFpfUebKSDmmN\",\n",
        "    \"qYafm11Xvxwju4oMUCSzGbp6Il4sVt0FZDfLwv1D5tQdK\")\n",
        "    # Create API object\n",
        "api = tweepy.API(auth, wait_on_rate_limit=True)"
      ]
    },
    {
      "cell_type": "markdown",
      "metadata": {
        "id": "Ft2AkWnY9auV"
      },
      "source": [
        "### Following cell includes code that\n",
        "- scrapes a Yahoo Finance webpage and table that contains lists of stocks that are active is copied. A dataframe called df is created.\n",
        "- The symbol column is placed in to a list\n",
        "- '$' is added to the stock list so that they can become clickable and searchable on Twitter. For example AAPL will become $AAPL.\n",
        "- All the elements in the list are converted to a string. This string is called 'new_list'\n",
        "- Another string called 'ding' is created which containts links to all the blogs. This uses the random function (random.click) to pick a random link.\n",
        "- The Tweet is generated and published with the two strings put together.\n",
        "- The schedule package is used to call the two functions are run them. The job function is run every two hours and coding function is run every 3600 seconds.\n",
        "- A while loop is used to keep the schedule function running.\n"
      ]
    },
    {
      "cell_type": "code",
      "execution_count": 19,
      "metadata": {
        "colab": {
          "base_uri": "https://localhost:8080/"
        },
        "id": "DBwPuKpn9auV",
        "outputId": "1629db3a-6613-4c8b-a85d-71e28d31ee5e"
      },
      "outputs": [
        {
          "output_type": "stream",
          "name": "stdout",
          "text": [
            " $T  $AMD  $NVDA  $ATVI  $BAC\n"
          ]
        },
        {
          "output_type": "execute_result",
          "data": {
            "text/plain": [
              "Status(_api=<tweepy.api.API object at 0x7a06178075b0>, _json={'created_at': 'Sun Jul 16 18:35:35 +0000 2023', 'id': 1680647383015620609, 'id_str': '1680647383015620609', 'text': 'these are the most active stocks right now $T  $AMD  $NVDA  $ATVI  $BAC', 'truncated': False, 'entities': {'hashtags': [], 'symbols': [{'text': 'T', 'indices': [43, 45]}, {'text': 'AMD', 'indices': [47, 51]}, {'text': 'NVDA', 'indices': [53, 58]}, {'text': 'ATVI', 'indices': [60, 65]}, {'text': 'BAC', 'indices': [67, 71]}], 'user_mentions': [], 'urls': []}, 'source': '<a href=\"https://help.twitter.com/en/using-twitter/how-to-tweet#source-labels\" rel=\"nofollow\">yk303</a>', 'in_reply_to_status_id': None, 'in_reply_to_status_id_str': None, 'in_reply_to_user_id': None, 'in_reply_to_user_id_str': None, 'in_reply_to_screen_name': None, 'user': {'id': 1358336778479022081, 'id_str': '1358336778479022081', 'name': '🚀🚀 Breaking News 🚀🚀', 'screen_name': 'get_blow', 'location': 'New York, NY', 'description': '\"Never bet against America\" -Warrent Buffet.', 'url': None, 'entities': {'description': {'urls': []}}, 'protected': False, 'followers_count': 874, 'friends_count': 0, 'listed_count': 13, 'created_at': 'Sun Feb 07 08:48:46 +0000 2021', 'favourites_count': 391, 'utc_offset': None, 'time_zone': None, 'geo_enabled': False, 'verified': False, 'statuses_count': 14230, 'lang': None, 'contributors_enabled': False, 'is_translator': False, 'is_translation_enabled': False, 'profile_background_color': 'F5F8FA', 'profile_background_image_url': None, 'profile_background_image_url_https': None, 'profile_background_tile': False, 'profile_image_url': 'http://pbs.twimg.com/profile_images/1401776358112563200/GIcRv1bi_normal.jpg', 'profile_image_url_https': 'https://pbs.twimg.com/profile_images/1401776358112563200/GIcRv1bi_normal.jpg', 'profile_banner_url': 'https://pbs.twimg.com/profile_banners/1358336778479022081/1623044393', 'profile_link_color': '1DA1F2', 'profile_sidebar_border_color': 'C0DEED', 'profile_sidebar_fill_color': 'DDEEF6', 'profile_text_color': '333333', 'profile_use_background_image': True, 'has_extended_profile': True, 'default_profile': True, 'default_profile_image': False, 'following': False, 'follow_request_sent': False, 'notifications': False, 'translator_type': 'none', 'withheld_in_countries': []}, 'geo': None, 'coordinates': None, 'place': None, 'contributors': None, 'is_quote_status': False, 'retweet_count': 0, 'favorite_count': 0, 'favorited': False, 'retweeted': False, 'lang': 'en'}, created_at=datetime.datetime(2023, 7, 16, 18, 35, 35, tzinfo=datetime.timezone.utc), id=1680647383015620609, id_str='1680647383015620609', text='these are the most active stocks right now $T  $AMD  $NVDA  $ATVI  $BAC', truncated=False, entities={'hashtags': [], 'symbols': [{'text': 'T', 'indices': [43, 45]}, {'text': 'AMD', 'indices': [47, 51]}, {'text': 'NVDA', 'indices': [53, 58]}, {'text': 'ATVI', 'indices': [60, 65]}, {'text': 'BAC', 'indices': [67, 71]}], 'user_mentions': [], 'urls': []}, source='yk303', source_url='https://help.twitter.com/en/using-twitter/how-to-tweet#source-labels', in_reply_to_status_id=None, in_reply_to_status_id_str=None, in_reply_to_user_id=None, in_reply_to_user_id_str=None, in_reply_to_screen_name=None, author=User(_api=<tweepy.api.API object at 0x7a06178075b0>, _json={'id': 1358336778479022081, 'id_str': '1358336778479022081', 'name': '🚀🚀 Breaking News 🚀🚀', 'screen_name': 'get_blow', 'location': 'New York, NY', 'description': '\"Never bet against America\" -Warrent Buffet.', 'url': None, 'entities': {'description': {'urls': []}}, 'protected': False, 'followers_count': 874, 'friends_count': 0, 'listed_count': 13, 'created_at': 'Sun Feb 07 08:48:46 +0000 2021', 'favourites_count': 391, 'utc_offset': None, 'time_zone': None, 'geo_enabled': False, 'verified': False, 'statuses_count': 14230, 'lang': None, 'contributors_enabled': False, 'is_translator': False, 'is_translation_enabled': False, 'profile_background_color': 'F5F8FA', 'profile_background_image_url': None, 'profile_background_image_url_https': None, 'profile_background_tile': False, 'profile_image_url': 'http://pbs.twimg.com/profile_images/1401776358112563200/GIcRv1bi_normal.jpg', 'profile_image_url_https': 'https://pbs.twimg.com/profile_images/1401776358112563200/GIcRv1bi_normal.jpg', 'profile_banner_url': 'https://pbs.twimg.com/profile_banners/1358336778479022081/1623044393', 'profile_link_color': '1DA1F2', 'profile_sidebar_border_color': 'C0DEED', 'profile_sidebar_fill_color': 'DDEEF6', 'profile_text_color': '333333', 'profile_use_background_image': True, 'has_extended_profile': True, 'default_profile': True, 'default_profile_image': False, 'following': False, 'follow_request_sent': False, 'notifications': False, 'translator_type': 'none', 'withheld_in_countries': []}, id=1358336778479022081, id_str='1358336778479022081', name='🚀🚀 Breaking News 🚀🚀', screen_name='get_blow', location='New York, NY', description='\"Never bet against America\" -Warrent Buffet.', url=None, entities={'description': {'urls': []}}, protected=False, followers_count=874, friends_count=0, listed_count=13, created_at=datetime.datetime(2021, 2, 7, 8, 48, 46, tzinfo=datetime.timezone.utc), favourites_count=391, utc_offset=None, time_zone=None, geo_enabled=False, verified=False, statuses_count=14230, lang=None, contributors_enabled=False, is_translator=False, is_translation_enabled=False, profile_background_color='F5F8FA', profile_background_image_url=None, profile_background_image_url_https=None, profile_background_tile=False, profile_image_url='http://pbs.twimg.com/profile_images/1401776358112563200/GIcRv1bi_normal.jpg', profile_image_url_https='https://pbs.twimg.com/profile_images/1401776358112563200/GIcRv1bi_normal.jpg', profile_banner_url='https://pbs.twimg.com/profile_banners/1358336778479022081/1623044393', profile_link_color='1DA1F2', profile_sidebar_border_color='C0DEED', profile_sidebar_fill_color='DDEEF6', profile_text_color='333333', profile_use_background_image=True, has_extended_profile=True, default_profile=True, default_profile_image=False, following=False, follow_request_sent=False, notifications=False, translator_type='none', withheld_in_countries=[]), user=User(_api=<tweepy.api.API object at 0x7a06178075b0>, _json={'id': 1358336778479022081, 'id_str': '1358336778479022081', 'name': '🚀🚀 Breaking News 🚀🚀', 'screen_name': 'get_blow', 'location': 'New York, NY', 'description': '\"Never bet against America\" -Warrent Buffet.', 'url': None, 'entities': {'description': {'urls': []}}, 'protected': False, 'followers_count': 874, 'friends_count': 0, 'listed_count': 13, 'created_at': 'Sun Feb 07 08:48:46 +0000 2021', 'favourites_count': 391, 'utc_offset': None, 'time_zone': None, 'geo_enabled': False, 'verified': False, 'statuses_count': 14230, 'lang': None, 'contributors_enabled': False, 'is_translator': False, 'is_translation_enabled': False, 'profile_background_color': 'F5F8FA', 'profile_background_image_url': None, 'profile_background_image_url_https': None, 'profile_background_tile': False, 'profile_image_url': 'http://pbs.twimg.com/profile_images/1401776358112563200/GIcRv1bi_normal.jpg', 'profile_image_url_https': 'https://pbs.twimg.com/profile_images/1401776358112563200/GIcRv1bi_normal.jpg', 'profile_banner_url': 'https://pbs.twimg.com/profile_banners/1358336778479022081/1623044393', 'profile_link_color': '1DA1F2', 'profile_sidebar_border_color': 'C0DEED', 'profile_sidebar_fill_color': 'DDEEF6', 'profile_text_color': '333333', 'profile_use_background_image': True, 'has_extended_profile': True, 'default_profile': True, 'default_profile_image': False, 'following': False, 'follow_request_sent': False, 'notifications': False, 'translator_type': 'none', 'withheld_in_countries': []}, id=1358336778479022081, id_str='1358336778479022081', name='🚀🚀 Breaking News 🚀🚀', screen_name='get_blow', location='New York, NY', description='\"Never bet against America\" -Warrent Buffet.', url=None, entities={'description': {'urls': []}}, protected=False, followers_count=874, friends_count=0, listed_count=13, created_at=datetime.datetime(2021, 2, 7, 8, 48, 46, tzinfo=datetime.timezone.utc), favourites_count=391, utc_offset=None, time_zone=None, geo_enabled=False, verified=False, statuses_count=14230, lang=None, contributors_enabled=False, is_translator=False, is_translation_enabled=False, profile_background_color='F5F8FA', profile_background_image_url=None, profile_background_image_url_https=None, profile_background_tile=False, profile_image_url='http://pbs.twimg.com/profile_images/1401776358112563200/GIcRv1bi_normal.jpg', profile_image_url_https='https://pbs.twimg.com/profile_images/1401776358112563200/GIcRv1bi_normal.jpg', profile_banner_url='https://pbs.twimg.com/profile_banners/1358336778479022081/1623044393', profile_link_color='1DA1F2', profile_sidebar_border_color='C0DEED', profile_sidebar_fill_color='DDEEF6', profile_text_color='333333', profile_use_background_image=True, has_extended_profile=True, default_profile=True, default_profile_image=False, following=False, follow_request_sent=False, notifications=False, translator_type='none', withheld_in_countries=[]), geo=None, coordinates=None, place=None, contributors=None, is_quote_status=False, retweet_count=0, favorite_count=0, favorited=False, retweeted=False, lang='en')"
            ]
          },
          "metadata": {},
          "execution_count": 19
        }
      ],
      "source": [
        "\n",
        "# The job function scrapes the yahoo finance site for web scraping, creates two strings with important content and then publishes the tweet\n",
        "\n",
        "\n",
        "\n",
        "# Get the content on the yahoo finance webpage\n",
        "r = requests.get('https://finance.yahoo.com/most-active?guccounter=1', headers={'User-Agent': 'Custom'})\n",
        "   # print(r.text[0:20])\n",
        "soup = BeautifulSoup(r.text, 'html.parser')\n",
        "    # Fetch the table that lists the stocks\n",
        "results = soup.find(\"div\", attrs={\"id\": \"scr-res-table\"})\n",
        "    #print(len(results))\n",
        "    # Use the loop to generate the framework of the table in the yahoo finance. Focus here is on the headers\n",
        "headers = []\n",
        "for i in results.find_all('th'):\n",
        "    title = i.text.strip()\n",
        "    headers.append(title)\n",
        "    # Create a data frame in the notebook\n",
        "df = pd.DataFrame(columns = headers)\n",
        "\n",
        "    # This loops grabs the data inside the rows and puts it in the dataframe df\n",
        "for j in results.find_all('tr')[1:]:\n",
        "    row_data = j.find_all('td')\n",
        "    row = [tr.text.strip() for tr in row_data]\n",
        "    length = len(df)\n",
        "    df.loc[length] = row\n",
        "    #display(df.head(5))\n",
        "    # Select the symbol column and insert the elements in to a list\n",
        "list_of_names = df['Symbol'][1:6].to_list()\n",
        "\n",
        "    # Add/Concatenate a space and the dollar sign to the elements in the list\n",
        "new_list = [' $'+x for x in list_of_names]\n",
        "\n",
        "# The string randomly selects a link\n",
        "\n",
        "#Set = set([' https://y3khan.wordpress.com/2021/09/02/thats-it-thats-the-tweet-checking-the-sentiment-behind-certain-popular-phrases-used-on-twitter/',' https://y3khan.wordpress.com/2021/08/23/how-do-stocks-fare-two-years-after-ipo-i-take-a-look/',' https://y3khan.wordpress.com/2021/08/06/why-i-wait-at-least-two-years-before-purchasing-ipos/',' https://y3khan.wordpress.com/2021/07/16/the-time-i-made-an-offer-on-a-condo-unit-but-couldnt-close/',' https://y3khan.wordpress.com/2021/07/06/why-markets-take-the-stairs-going-up-and-elevator-coming-down/',' https://y3khan.wordpress.com/2021/06/10/why-traders-sell-their-gains-early-and-losses-late/',' https://y3khan.wordpress.com/2021/02/22/mistakes-new-traders-should-avoid-in-the-stock-market/', ' https://y3khan.wordpress.com/2021/02/16/what-stocks-should-i-buy/', ' https://y3khan.wordpress.com/2021/02/08/why-taking-out-a-loan-to-purchase-stocks-is-not-a-dangerous-idea/',' https://y3khan.wordpress.com/2021/02/01/markets-are-at-all-time-highs-should-i-sell-now/', ' https://y3khan.wordpress.com/2021/01/25/three-bubbles-that-burst-in-the-last-decade/', ' https://y3khan.wordpress.com/2021/01/19/three-core-issues-asset-teams-mismanage-in-the-oil-and-gas-industry/', ' https://y3khan.wordpress.com/2021/01/14/quick-look-at-my-transaction-costs/', ' https://y3khan.wordpress.com/2020/05/15/selling-when-markets-are-in-turmoil/' ])\n",
        "#ding= random.choices(list(Set),k= 1)\n",
        "#ding2 = ' '.join([str(elem) for elem in ding])\n",
        "\n",
        "\n",
        "    # This code converts each element in the list to a string\n",
        "listToStr = ' '.join([str(elem) for elem in new_list])\n",
        "print(listToStr)\n",
        "\n",
        "    # This code combines the text, the two strings and publishes the tweet\n",
        "api.update_status('these are the most active stocks right now' + listToStr)\n",
        "\n",
        "\n"
      ]
    },
    {
      "cell_type": "code",
      "execution_count": null,
      "metadata": {
        "id": "EmjOfJUg9auW"
      },
      "outputs": [],
      "source": []
    }
  ],
  "metadata": {
    "kernelspec": {
      "display_name": "Python 3 (ipykernel)",
      "language": "python",
      "name": "python3"
    },
    "language_info": {
      "codemirror_mode": {
        "name": "ipython",
        "version": 3
      },
      "file_extension": ".py",
      "mimetype": "text/x-python",
      "name": "python",
      "nbconvert_exporter": "python",
      "pygments_lexer": "ipython3",
      "version": "3.8.5"
    },
    "colab": {
      "provenance": [],
      "include_colab_link": true
    }
  },
  "nbformat": 4,
  "nbformat_minor": 0
}