{
 "cells": [
  {
   "cell_type": "markdown",
   "metadata": {},
   "source": [
    "# Twitter Bot: Web Scraping a website for active stocks and then generated tweets"
   ]
  },
  {
   "cell_type": "markdown",
   "metadata": {},
   "source": [
    "## Importing all the required libraries"
   ]
  },
  {
   "cell_type": "code",
   "execution_count": 7,
   "metadata": {},
   "outputs": [],
   "source": [
    "import tweepy\n",
    "import requests  \n",
    "import pandas as pd\n",
    "import schedule\n",
    "import time\n",
    "from bs4 import BeautifulSoup \n",
    "import random\n",
    "import tweepy"
   ]
  },
  {
   "cell_type": "markdown",
   "metadata": {},
   "source": [
    "### References:\n",
    "Tweepy Tutorial: https://realpython.com/twitter-bot-python-tweepy/\n",
    "YouTube Tutorial: How to Schedule Tasks with Python https://www.youtube.com/watch?v=zF_DroDICaM\n",
    "YouTube Tutorial: PYTHON VIRTUAL ENVIRONMENTS (Beginner's Guide to Python Lesson 9) https://www.youtube.com/watch?v=4jt9JPoIDpY\n",
    "YouTube Tutorial: Web scraping in Python (Part 3): Building a dataset https://www.youtube.com/watch?v=v5DDW5dyfyc\n",
    "YouTube:30 Days of Python - Day 21 - Twitter API with Tweepy - Python TUTORIAL (especially useful for 2nd Twitter account authentication) https://www.youtube.com/watch?v=dvAurfBB6Jk&list=LL&index=28&t=3s\n",
    "YouTube:How to Web Scrape Any Table Online Using Python and BeautifulSoup https://www.youtube.com/watch?v=PY2I4UIZk48&list=LL&index=18&t=863s\n"
   ]
  },
  {
   "cell_type": "markdown",
   "metadata": {},
   "source": [
    "### Entering in the Twitter creditentials so that authetication can be completed. Also creating the API object so that different methods can be called when necessary"
   ]
  },
  {
   "cell_type": "code",
   "execution_count": 8,
   "metadata": {},
   "outputs": [],
   "source": [
    "   # Authenticate to Twitter\n",
    "auth = tweepy.OAuthHandler(\"\",\"\")\n",
    "auth.set_access_token(\"\",\"\")\n",
    "    # Create API object\n",
    "api = tweepy.API(auth, wait_on_rate_limit=True, wait_on_rate_limit_notify=True)"
   ]
  },
  {
   "cell_type": "markdown",
   "metadata": {},
   "source": [
    "### Following cell includes code that\n",
    "- scrapes a Yahoo Finance webpage and table that contains lists of stocks that are active is copied. A dataframe called df is created.\n",
    "- The symbol column is placed in to a list\n",
    "- '$' is added to the stock list so that they can become clickable and searchable on Twitter. For example AAPL will become $AAPL. \n",
    "- All the elements in the list are converted to a string. This string is called 'new_list'\n",
    "- Another string called 'ding' is created which containts links to all the blogs. This uses the random function (random.click) to pick a random link.\n",
    "- The Tweet is generated and published with the two strings put together. \n",
    "- The schedule package is used to call the two functions are run them. The job function is run every two hours and coding function is run every 3600 seconds. \n",
    "- A while loop is used to keep the schedule function running.\n"
   ]
  },
  {
   "cell_type": "code",
   "execution_count": null,
   "metadata": {},
   "outputs": [
    {
     "name": "stdout",
     "output_type": "stream",
     "text": [
      " $AMC  $F  $BB  $PLTR  $GE  $AAPL  $NOK  $TLRY  $NIO  $PBR  $SPCE  $AMD  $T  $PLUG  $VALE  $BAC  $HPQ  $AAL  $ITUB  $MVIS  $CCL  $FCEL  $SIRI  $TSLA  $ABEV\n",
      "working\n",
      "working\n",
      " $AMC  $F  $BB  $PLTR  $GE  $AAPL  $NOK  $TLRY  $NIO  $PBR  $SPCE  $AMD  $T  $PLUG  $VALE  $BAC  $HPQ  $AAL  $ITUB  $MVIS  $CCL  $FCEL  $SIRI  $TSLA  $ABEV\n",
      " $AMC  $F  $BB  $PLTR  $GE  $AAPL  $NOK  $TLRY  $NIO  $PBR  $SPCE  $AMD  $T  $PLUG  $VALE  $BAC  $HPQ  $AAL  $ITUB  $MVIS  $CCL  $FCEL  $SIRI  $TSLA  $ABEV\n",
      "working\n"
     ]
    }
   ],
   "source": [
    "# The coding function is just an accessory to the main 'job' function. The purpose of the coding function is to see if the code is working ok.\n",
    "\n",
    "def coding():\n",
    "    print (\"working\")\n",
    "    \n",
    "# The job function scrapes the yahoo finance site for web scraping, creates two strings with important content and then publishes the tweet\n",
    "\n",
    "   \n",
    "def job():\n",
    "    # Get the content on the yahoo finance webpage\n",
    "    r = requests.get('https://finance.yahoo.com/most-active')\n",
    "   # print(r.text[0:20])\n",
    "    soup = BeautifulSoup(r.text, 'html.parser')\n",
    "    # Fetch the table that lists the stocks\n",
    "    results = soup.find('section', attrs={'id':'screener-results'})\n",
    "    #print(len(results))\n",
    "    # Use the loop to generate the framework of the table in the yahoo finance. Focus here is on the headers\n",
    "    headers = []\n",
    "    for i in results.find_all('th'):\n",
    "        title = i.text.strip()\n",
    "        headers.append(title)\n",
    "    # Create a data frame in the notebook    \n",
    "    df = pd.DataFrame(columns = headers)\n",
    "   \n",
    "    # This loops grabs the data inside the rows and puts it in the dataframe df\n",
    "    for j in results.find_all('tr')[1:]:\n",
    "        row_data = j.find_all('td')\n",
    "        row = [tr.text.strip() for tr in row_data]\n",
    "        length = len(df)\n",
    "        df.loc[length] = row\n",
    "    #display(df.head(5))\n",
    "    # Select the symbol column and insert the elements in to a list\n",
    "    list_of_names = df['Symbol'].to_list()\n",
    "    \n",
    "    # Add/Concatenate a space and the dollar sign to the elements in the list \n",
    "    new_list = [' $'+x for x in list_of_names]\n",
    "    \n",
    "    # The string randomly selects a link\n",
    "    ding= (random.choice((' https://y3khan.wordpress.com/2021/02/22/mistakes-new-traders-should-avoid-in-the-stock-market/', ' https://y3khan.wordpress.com/2021/02/16/what-stocks-should-i-buy/', ' https://y3khan.wordpress.com/2021/02/08/why-taking-out-a-loan-to-purchase-stocks-is-not-a-dangerous-idea/', ' https://y3khan.wordpress.com/2021/01/25/three-bubbles-that-burst-in-the-last-decade/',' https://y3khan.wordpress.com/2021/02/01/markets-are-at-all-time-highs-should-i-sell-now/', ' https://y3khan.wordpress.com/2021/01/25/three-bubbles-that-burst-in-the-last-decade/', ' https://y3khan.wordpress.com/2021/01/19/three-core-issues-asset-teams-mismanage-in-the-oil-and-gas-industry/', ' https://y3khan.wordpress.com/2021/01/14/quick-look-at-my-transaction-costs/', ' https://y3khan.wordpress.com/2020/05/15/selling-when-markets-are-in-turmoil/' )))\n",
    "    \n",
    "    # This code converts each element in the list to a string\n",
    "    listToStr = ' '.join([str(elem) for elem in new_list])\n",
    "    print(listToStr)\n",
    "    \n",
    "    # This code combines the text, the two strings and publishes the tweet\n",
    "    api.update_status('these are the most active stocks right now' + listToStr + ding)\n",
    "    \n",
    "\n",
    "# This code uses the schedule library to schedule the two functions    \n",
    "schedule.every(3600).seconds.do(coding)\n",
    "schedule.every(1).hour.do(job)\n",
    "\n",
    "# This code uses the loop to run the schedule function as long as the notebook is running\n",
    "while True:\n",
    "    schedule.run_pending()\n",
    "    time.sleep(1)"
   ]
  },
  {
   "cell_type": "code",
   "execution_count": null,
   "metadata": {},
   "outputs": [],
   "source": []
  }
 ],
 "metadata": {
  "kernelspec": {
   "display_name": "Python 3",
   "language": "python",
   "name": "python3"
  },
  "language_info": {
   "codemirror_mode": {
    "name": "ipython",
    "version": 3
   },
   "file_extension": ".py",
   "mimetype": "text/x-python",
   "name": "python",
   "nbconvert_exporter": "python",
   "pygments_lexer": "ipython3",
   "version": "3.8.5"
  }
 },
 "nbformat": 4,
 "nbformat_minor": 4
}
