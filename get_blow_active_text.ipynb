{
 "cells": [
  {
   "cell_type": "markdown",
   "metadata": {},
   "source": [
    "# Twitter Bot: Web Scraping a website for active stocks, how much it changed 1 to 6 stocks\n"
   ]
  },
  {
   "cell_type": "markdown",
   "metadata": {},
   "source": [
    "## Importing all the required libraries"
   ]
  },
  {
   "cell_type": "code",
   "execution_count": 1,
   "metadata": {},
   "outputs": [],
   "source": [
    "import tweepy\n",
    "import requests  \n",
    "import pandas as pd\n",
    "import schedule\n",
    "import time\n",
    "from bs4 import BeautifulSoup \n",
    "import random\n",
    "import tweepy\n",
    "import pandas as pd\n",
    "import yfinance as yf\n",
    "from yahoofinancials import YahooFinancials\n",
    "import requests\n",
    "from datetime import date\n",
    "\n",
    "\n",
    "\n"
   ]
  },
  {
   "cell_type": "markdown",
   "metadata": {},
   "source": [
    "### References:\n",
    "Tweepy Tutorial: https://realpython.com/twitter-bot-python-tweepy/\n",
    "YouTube Tutorial: How to Schedule Tasks with Python https://www.youtube.com/watch?v=zF_DroDICaM\n",
    "YouTube Tutorial: PYTHON VIRTUAL ENVIRONMENTS (Beginner's Guide to Python Lesson 9) https://www.youtube.com/watch?v=4jt9JPoIDpY\n",
    "YouTube Tutorial: Web scraping in Python (Part 3): Building a dataset https://www.youtube.com/watch?v=v5DDW5dyfyc\n",
    "YouTube:30 Days of Python - Day 21 - Twitter API with Tweepy - Python TUTORIAL (especially useful for 2nd Twitter account authentication) https://www.youtube.com/watch?v=dvAurfBB6Jk&list=LL&index=28&t=3s\n",
    "YouTube:How to Web Scrape Any Table Online Using Python and BeautifulSoup https://www.youtube.com/watch?v=PY2I4UIZk48&list=LL&index=18&t=863s\n"
   ]
  },
  {
   "cell_type": "markdown",
   "metadata": {},
   "source": [
    "### Entering in the Twitter creditentials so that authetication can be completed. Also creating the API object so that different methods can be called when necessary"
   ]
  },
  {
   "cell_type": "code",
   "execution_count": 3,
   "metadata": {},
   "outputs": [],
   "source": [
    "   # Authenticate to Twitter\n",
    "auth = tweepy.OAuthHandler(\"Zt00PBtXB16LM2gxRWoVBXoaP\",\"UwN96llwc7D44yo8zEIPqKI9JOcxrVWaSHWExQRmVJNOAjRoe2\")\n",
    "auth.set_access_token(\"1358336778479022081-KBu5DLwt07lrfxFGOJe398rQkuFQZk\",\"Rwx1tzqQwp41If2cCBjoM3hqNnN2w4Z1UcZT3V7rATYBN\")\n",
    "    # Create API object\n",
    "api = tweepy.API(auth)\n",
    "  #  api = tweepy.API(auth, wait_on_rate_limit=True, wait_on_rate_limit_notify=True)"
   ]
  },
  {
   "cell_type": "markdown",
   "metadata": {},
   "source": [
    "### Following cell includes code that\n",
    "- scrapes a Yahoo Finance webpage and table that contains lists of stocks that are active is copied. A dataframe called df is created.\n",
    "- The symbol column is placed in to a list\n",
    "- '$' is added to the stock list so that they can become clickable and searchable on Twitter. For example AAPL will become $AAPL. \n",
    "- All the elements in the list are converted to a string. This string is called 'new_list'\n",
    "- Another string called 'ding' is created which containts links to all the blogs. This uses the random function (random.click) to pick a random link.\n",
    "- The Tweet is generated and published with the two strings put together. \n",
    "- The schedule package is used to call the two functions are run them. The job function is run every two hours and coding function is run every 3600 seconds. \n",
    "- A while loop is used to keep the schedule function running.\n"
   ]
  },
  {
   "cell_type": "code",
   "execution_count": 4,
   "metadata": {},
   "outputs": [
    {
     "name": "stdout",
     "output_type": "stream",
     "text": [
      "[*********************100%***********************]  5 of 5 completed\n"
     ]
    },
    {
     "data": {
      "text/plain": [
       "Status(_api=<tweepy.api.API object at 0x7fa8f3350df0>, _json={'created_at': 'Fri Jan 07 04:30:54 +0000 2022', 'id': 1479309547378462722, 'id_str': '1479309547378462722', 'text': 'This year: \\n$AAPL is down -3.9% \\n$AMD is down -9.4% \\n$BAC is up 2.2% \\n$LCID is down -10.4% \\n$T is up 3.1%', 'truncated': False, 'entities': {'hashtags': [], 'symbols': [{'text': 'AAPL', 'indices': [12, 17]}, {'text': 'AMD', 'indices': [33, 37]}, {'text': 'BAC', 'indices': [53, 57]}, {'text': 'LCID', 'indices': [70, 75]}, {'text': 'T', 'indices': [92, 94]}], 'user_mentions': [], 'urls': []}, 'source': '<a href=\"https://help.twitter.com/en/using-twitter/how-to-tweet#source-labels\" rel=\"nofollow\">yk303</a>', 'in_reply_to_status_id': None, 'in_reply_to_status_id_str': None, 'in_reply_to_user_id': None, 'in_reply_to_user_id_str': None, 'in_reply_to_screen_name': None, 'user': {'id': 1358336778479022081, 'id_str': '1358336778479022081', 'name': '🚀🚀 Trending Stocks 🚀🚀', 'screen_name': 'get_blow', 'location': 'New York, NY', 'description': 'We in a bull market. Everything else is noise. TRADER. stocks. options.', 'url': None, 'entities': {'description': {'urls': []}}, 'protected': False, 'followers_count': 476, 'friends_count': 0, 'listed_count': 6, 'created_at': 'Sun Feb 07 08:48:46 +0000 2021', 'favourites_count': 200, 'utc_offset': None, 'time_zone': None, 'geo_enabled': False, 'verified': False, 'statuses_count': 5969, 'lang': None, 'contributors_enabled': False, 'is_translator': False, 'is_translation_enabled': False, 'profile_background_color': 'F5F8FA', 'profile_background_image_url': None, 'profile_background_image_url_https': None, 'profile_background_tile': False, 'profile_image_url': 'http://pbs.twimg.com/profile_images/1401776358112563200/GIcRv1bi_normal.jpg', 'profile_image_url_https': 'https://pbs.twimg.com/profile_images/1401776358112563200/GIcRv1bi_normal.jpg', 'profile_banner_url': 'https://pbs.twimg.com/profile_banners/1358336778479022081/1623044393', 'profile_link_color': '1DA1F2', 'profile_sidebar_border_color': 'C0DEED', 'profile_sidebar_fill_color': 'DDEEF6', 'profile_text_color': '333333', 'profile_use_background_image': True, 'has_extended_profile': True, 'default_profile': True, 'default_profile_image': False, 'following': False, 'follow_request_sent': False, 'notifications': False, 'translator_type': 'none', 'withheld_in_countries': []}, 'geo': None, 'coordinates': None, 'place': None, 'contributors': None, 'is_quote_status': False, 'retweet_count': 0, 'favorite_count': 0, 'favorited': False, 'retweeted': False, 'lang': 'en'}, created_at=datetime.datetime(2022, 1, 7, 4, 30, 54, tzinfo=datetime.timezone.utc), id=1479309547378462722, id_str='1479309547378462722', text='This year: \\n$AAPL is down -3.9% \\n$AMD is down -9.4% \\n$BAC is up 2.2% \\n$LCID is down -10.4% \\n$T is up 3.1%', truncated=False, entities={'hashtags': [], 'symbols': [{'text': 'AAPL', 'indices': [12, 17]}, {'text': 'AMD', 'indices': [33, 37]}, {'text': 'BAC', 'indices': [53, 57]}, {'text': 'LCID', 'indices': [70, 75]}, {'text': 'T', 'indices': [92, 94]}], 'user_mentions': [], 'urls': []}, source='yk303', source_url='https://help.twitter.com/en/using-twitter/how-to-tweet#source-labels', in_reply_to_status_id=None, in_reply_to_status_id_str=None, in_reply_to_user_id=None, in_reply_to_user_id_str=None, in_reply_to_screen_name=None, author=User(_api=<tweepy.api.API object at 0x7fa8f3350df0>, _json={'id': 1358336778479022081, 'id_str': '1358336778479022081', 'name': '🚀🚀 Trending Stocks 🚀🚀', 'screen_name': 'get_blow', 'location': 'New York, NY', 'description': 'We in a bull market. Everything else is noise. TRADER. stocks. options.', 'url': None, 'entities': {'description': {'urls': []}}, 'protected': False, 'followers_count': 476, 'friends_count': 0, 'listed_count': 6, 'created_at': 'Sun Feb 07 08:48:46 +0000 2021', 'favourites_count': 200, 'utc_offset': None, 'time_zone': None, 'geo_enabled': False, 'verified': False, 'statuses_count': 5969, 'lang': None, 'contributors_enabled': False, 'is_translator': False, 'is_translation_enabled': False, 'profile_background_color': 'F5F8FA', 'profile_background_image_url': None, 'profile_background_image_url_https': None, 'profile_background_tile': False, 'profile_image_url': 'http://pbs.twimg.com/profile_images/1401776358112563200/GIcRv1bi_normal.jpg', 'profile_image_url_https': 'https://pbs.twimg.com/profile_images/1401776358112563200/GIcRv1bi_normal.jpg', 'profile_banner_url': 'https://pbs.twimg.com/profile_banners/1358336778479022081/1623044393', 'profile_link_color': '1DA1F2', 'profile_sidebar_border_color': 'C0DEED', 'profile_sidebar_fill_color': 'DDEEF6', 'profile_text_color': '333333', 'profile_use_background_image': True, 'has_extended_profile': True, 'default_profile': True, 'default_profile_image': False, 'following': False, 'follow_request_sent': False, 'notifications': False, 'translator_type': 'none', 'withheld_in_countries': []}, id=1358336778479022081, id_str='1358336778479022081', name='🚀🚀 Trending Stocks 🚀🚀', screen_name='get_blow', location='New York, NY', description='We in a bull market. Everything else is noise. TRADER. stocks. options.', url=None, entities={'description': {'urls': []}}, protected=False, followers_count=476, friends_count=0, listed_count=6, created_at=datetime.datetime(2021, 2, 7, 8, 48, 46, tzinfo=datetime.timezone.utc), favourites_count=200, utc_offset=None, time_zone=None, geo_enabled=False, verified=False, statuses_count=5969, lang=None, contributors_enabled=False, is_translator=False, is_translation_enabled=False, profile_background_color='F5F8FA', profile_background_image_url=None, profile_background_image_url_https=None, profile_background_tile=False, profile_image_url='http://pbs.twimg.com/profile_images/1401776358112563200/GIcRv1bi_normal.jpg', profile_image_url_https='https://pbs.twimg.com/profile_images/1401776358112563200/GIcRv1bi_normal.jpg', profile_banner_url='https://pbs.twimg.com/profile_banners/1358336778479022081/1623044393', profile_link_color='1DA1F2', profile_sidebar_border_color='C0DEED', profile_sidebar_fill_color='DDEEF6', profile_text_color='333333', profile_use_background_image=True, has_extended_profile=True, default_profile=True, default_profile_image=False, following=False, follow_request_sent=False, notifications=False, translator_type='none', withheld_in_countries=[]), user=User(_api=<tweepy.api.API object at 0x7fa8f3350df0>, _json={'id': 1358336778479022081, 'id_str': '1358336778479022081', 'name': '🚀🚀 Trending Stocks 🚀🚀', 'screen_name': 'get_blow', 'location': 'New York, NY', 'description': 'We in a bull market. Everything else is noise. TRADER. stocks. options.', 'url': None, 'entities': {'description': {'urls': []}}, 'protected': False, 'followers_count': 476, 'friends_count': 0, 'listed_count': 6, 'created_at': 'Sun Feb 07 08:48:46 +0000 2021', 'favourites_count': 200, 'utc_offset': None, 'time_zone': None, 'geo_enabled': False, 'verified': False, 'statuses_count': 5969, 'lang': None, 'contributors_enabled': False, 'is_translator': False, 'is_translation_enabled': False, 'profile_background_color': 'F5F8FA', 'profile_background_image_url': None, 'profile_background_image_url_https': None, 'profile_background_tile': False, 'profile_image_url': 'http://pbs.twimg.com/profile_images/1401776358112563200/GIcRv1bi_normal.jpg', 'profile_image_url_https': 'https://pbs.twimg.com/profile_images/1401776358112563200/GIcRv1bi_normal.jpg', 'profile_banner_url': 'https://pbs.twimg.com/profile_banners/1358336778479022081/1623044393', 'profile_link_color': '1DA1F2', 'profile_sidebar_border_color': 'C0DEED', 'profile_sidebar_fill_color': 'DDEEF6', 'profile_text_color': '333333', 'profile_use_background_image': True, 'has_extended_profile': True, 'default_profile': True, 'default_profile_image': False, 'following': False, 'follow_request_sent': False, 'notifications': False, 'translator_type': 'none', 'withheld_in_countries': []}, id=1358336778479022081, id_str='1358336778479022081', name='🚀🚀 Trending Stocks 🚀🚀', screen_name='get_blow', location='New York, NY', description='We in a bull market. Everything else is noise. TRADER. stocks. options.', url=None, entities={'description': {'urls': []}}, protected=False, followers_count=476, friends_count=0, listed_count=6, created_at=datetime.datetime(2021, 2, 7, 8, 48, 46, tzinfo=datetime.timezone.utc), favourites_count=200, utc_offset=None, time_zone=None, geo_enabled=False, verified=False, statuses_count=5969, lang=None, contributors_enabled=False, is_translator=False, is_translation_enabled=False, profile_background_color='F5F8FA', profile_background_image_url=None, profile_background_image_url_https=None, profile_background_tile=False, profile_image_url='http://pbs.twimg.com/profile_images/1401776358112563200/GIcRv1bi_normal.jpg', profile_image_url_https='https://pbs.twimg.com/profile_images/1401776358112563200/GIcRv1bi_normal.jpg', profile_banner_url='https://pbs.twimg.com/profile_banners/1358336778479022081/1623044393', profile_link_color='1DA1F2', profile_sidebar_border_color='C0DEED', profile_sidebar_fill_color='DDEEF6', profile_text_color='333333', profile_use_background_image=True, has_extended_profile=True, default_profile=True, default_profile_image=False, following=False, follow_request_sent=False, notifications=False, translator_type='none', withheld_in_countries=[]), geo=None, coordinates=None, place=None, contributors=None, is_quote_status=False, retweet_count=0, favorite_count=0, favorited=False, retweeted=False, lang='en')"
      ]
     },
     "execution_count": 4,
     "metadata": {},
     "output_type": "execute_result"
    }
   ],
   "source": [
    "# The coding function is just an accessory to the main 'job' function. The purpose of the coding function is to see if the code is working ok.\n",
    "\n",
    "def coding():\n",
    "    print (\"working\")\n",
    "    \n",
    "# The job function scrapes the yahoo finance site for web scraping, creates two strings with important content and then publishes the tweet\n",
    "\n",
    "   \n",
    "\n",
    "    # Get the content on the yahoo finance webpage\n",
    "r = requests.get('https://finance.yahoo.com/most-active')\n",
    "   # print(r.text[0:20])\n",
    "soup = BeautifulSoup(r.text, 'html.parser')\n",
    "    # Fetch the table that lists the stocks\n",
    "results = soup.find('section', attrs={'id':'screener-results'})\n",
    "    #print(len(results))\n",
    "    # Use the loop to generate the framework of the table in the yahoo finance. Focus here is on the headers\n",
    "headers = []\n",
    "for i in results.find_all('th'):\n",
    "    title = i.text.strip()\n",
    "    headers.append(title)\n",
    "    # Create a data frame in the notebook    \n",
    "df = pd.DataFrame(columns = headers)\n",
    "   \n",
    "    # This loops grabs the data inside the rows and puts it in the dataframe df\n",
    "for j in results.find_all('tr')[1:]:\n",
    "    row_data = j.find_all('td')\n",
    "    row = [tr.text.strip() for tr in row_data]\n",
    "    length = len(df)\n",
    "    df.loc[length] = row\n",
    "    #display(df.head(5))\n",
    "    # Select the symbol column and insert the elements in to a list\n",
    "list_of_names = df['Symbol'][1:6].to_list()\n",
    "    \n",
    "    # Add/Concatenate a space and the dollar sign to the elements in the list \n",
    "    # new_list = [' $'+x for x in list_of_names]\n",
    "    \n",
    "    # The string randomly selects a link\n",
    "  \n",
    "    # Set = set([' https://y3khan.wordpress.com/2021/02/22/mistakes-new-traders-should-avoid-in-the-stock-market/', ' https://y3khan.wordpress.com/2021/02/16/what-stocks-should-i-buy/', ' https://y3khan.wordpress.com/2021/02/08/why-taking-out-a-loan-to-purchase-stocks-is-not-a-dangerous-idea/',' https://y3khan.wordpress.com/2021/02/01/markets-are-at-all-time-highs-should-i-sell-now/', ' https://y3khan.wordpress.com/2021/01/25/three-bubbles-that-burst-in-the-last-decade/', ' https://y3khan.wordpress.com/2021/01/19/three-core-issues-asset-teams-mismanage-in-the-oil-and-gas-industry/', ' https://y3khan.wordpress.com/2021/01/14/quick-look-at-my-transaction-costs/', ' https://y3khan.wordpress.com/2020/05/15/selling-when-markets-are-in-turmoil/' ])\n",
    "    # ding= random.choices(list(Set),k= 1)\n",
    "    # ding2 = ' '.join([str(elem) for elem in ding])\n",
    "today = date.today()\n",
    "a = date(date.today().year, 1, 1)\n",
    "    # dd/mm/YY\n",
    "d1 = today.strftime(\"%Y-%m-%d\")\n",
    "d2 = a.strftime(\"%Y-%m-%d\")\n",
    "data = yf.download(list_of_names,start=d2, end=d1)\n",
    "data1=data.dropna()\n",
    "Prices= data1['Adj Close']\n",
    "Prices1 = ((Prices - Prices.iloc[0])/Prices.iloc[0]) * 100\n",
    "lastr= Prices1.round(1).tail(1)\n",
    "header= list(lastr)\n",
    "lastlist= lastr.values.tolist()\n",
    "master=[]\n",
    "for sym, num in zip(header, lastlist[0]):\n",
    "    if num >0 :\n",
    "        master.append((''.join((\"$\", sym, \" is up \",  str(num),  \"%\" , ' \\n'))))  \n",
    "    else:\n",
    "           master.append((''.join((\"$\", sym, \" is down \",  str(num),  \"%\" , ' \\n'))))  \n",
    "  \n",
    "\n",
    "# This code converts each element in the list to a string\n",
    "listToStr1 = ''.join([str(elem) for elem in master])\n",
    "    #divide all dataframe by first line of data to enable comparison\n",
    "\n",
    "    # This code converts each element in the list to a string\n",
    "                      \n",
    "    # This code converts each element in the list to a string\n",
    "    #listToStr = ' '.join([str(elem) for elem in new_list])\n",
    "    #print(listToStr)\n",
    "    \n",
    "    # This code combines the text, the two strings and publishes the tweet\n",
    "api.update_status(\"This year: \\n\" + listToStr1)\n",
    "\n"
   ]
  },
  {
   "cell_type": "code",
   "execution_count": null,
   "metadata": {},
   "outputs": [],
   "source": []
  },
  {
   "cell_type": "code",
   "execution_count": null,
   "metadata": {},
   "outputs": [],
   "source": []
  }
 ],
 "metadata": {
  "kernelspec": {
   "display_name": "Python 3 (ipykernel)",
   "language": "python",
   "name": "python3"
  },
  "language_info": {
   "codemirror_mode": {
    "name": "ipython",
    "version": 3
   },
   "file_extension": ".py",
   "mimetype": "text/x-python",
   "name": "python",
   "nbconvert_exporter": "python",
   "pygments_lexer": "ipython3",
   "version": "3.8.5"
  }
 },
 "nbformat": 4,
 "nbformat_minor": 4
}
